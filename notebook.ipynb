{
 "cells": [
  {
   "cell_type": "code",
   "execution_count": 3,
   "id": "initial_id",
   "metadata": {
    "collapsed": true,
    "is_executing": true
   },
   "outputs": [],
   "source": [
    "import fitz  # PyMuPDF\n",
    "import pytesseract\n",
    "from PIL import Image\n",
    "from docx import Document\n",
    "import io\n"
   ]
  },
  {
   "cell_type": "code",
   "execution_count": 14,
   "id": "6a4e7fd8fdce706c",
   "metadata": {
    "collapsed": false
   },
   "outputs": [],
   "source": [
    "# Spécifiez le chemin d'accès à l'exécutable Tesseract\n",
    "pytesseract.pytesseract.tesseract_cmd = r'C:\\Program Files\\Tesseract-OCR\\tesseract.exe'  # Modifiez ce chemin selon votre installation\n",
    "\n",
    "def pdf_to_images(pdf_path):\n",
    "    doc = fitz.open(pdf_path)\n",
    "    images = []\n",
    "    \n",
    "    for page_num in range(len(doc)):\n",
    "        page = doc.load_page(page_num)\n",
    "        pix = page.get_pixmap()\n",
    "        img = Image.open(io.BytesIO(pix.tobytes()))\n",
    "        images.append(img)\n",
    "        \n",
    "    return images\n",
    "\n",
    "def extract_text_from_images(images):\n",
    "    text = \"\"\n",
    "    \n",
    "    for img in images:\n",
    "        # Convertir l'image en niveaux de gris\n",
    "        gray_image = img.convert('L')\n",
    "        \n",
    "        # Utiliser pytesseract pour extraire le texte\n",
    "        custom_config = r'--oem 3 --psm 6'\n",
    "        text += pytesseract.image_to_string(gray_image, config=custom_config)\n",
    "        \n",
    "    return text\n",
    "\n",
    "def save_text_to_word(text, output_path):\n",
    "    # Créer un document Word\n",
    "    doc = Document()\n",
    "    \n",
    "    # Ajouter le texte extrait au document\n",
    "    doc.add_paragraph(text)\n",
    "    \n",
    "    # Sauvegarder le document\n",
    "    doc.save(output_path)\n",
    "\n",
    "def pdf_to_word(pdf_path, output_path):\n",
    "    images = pdf_to_images(pdf_path)\n",
    "    text = extract_text_from_images(images)\n",
    "    save_text_to_word(text, output_path)\n",
    "\n",
    "# Exemple d'utilisation\n",
    "pdf_path = 'C:/RECETTE_DE_SIRR.pdf'\n",
    "output_path = 'C:/Users/Public/Data/output.docx'\n",
    "pdf_to_word(pdf_path, output_path)"
   ]
  }
 ],
 "metadata": {
  "kernelspec": {
   "display_name": "Python 3",
   "language": "python",
   "name": "python3"
  },
  "language_info": {
   "codemirror_mode": {
    "name": "ipython",
    "version": 3
   },
   "file_extension": ".py",
   "mimetype": "text/x-python",
   "name": "python",
   "nbconvert_exporter": "python",
   "pygments_lexer": "ipython3",
   "version": "3.11.9"
  }
 },
 "nbformat": 4,
 "nbformat_minor": 5
}
